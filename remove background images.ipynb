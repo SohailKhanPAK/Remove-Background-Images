{
 "cells": [
  {
   "cell_type": "code",
   "execution_count": 1,
   "id": "e3ab1bd2",
   "metadata": {},
   "outputs": [
    {
     "name": "stdout",
     "output_type": "stream",
     "text": [
      "Processed and saved: Codes Minds Footer.PNG\n",
      "Processed and saved: Codes Minds Header.PNG\n",
      "Processed and saved: LOGO 1.PNG\n",
      "Processed and saved: LOGO 2.PNG\n",
      "Processed and saved: logo 3.PNG\n",
      "Background removal process complete.\n"
     ]
    }
   ],
   "source": [
    "import os\n",
    "import io\n",
    "from rembg import remove\n",
    "from PIL import Image\n",
    "\n",
    "# Define paths\n",
    "input_folder = './Logo New 2025'\n",
    "output_folder = './removed background from images'\n",
    "\n",
    "# Create the output folder if it doesn't exist\n",
    "if not os.path.exists(output_folder):\n",
    "    os.makedirs(output_folder)\n",
    "\n",
    "# Loop through all files in the input folder\n",
    "for filename in os.listdir(input_folder):\n",
    "    file_path = os.path.join(input_folder, filename)\n",
    "\n",
    "    # Check if it's an image file (you can adjust this as needed for your use case)\n",
    "    if filename.lower().endswith(('.png', '.jpg', '.jpeg', '.bmp', '.gif')):\n",
    "        try:\n",
    "            # Open the image\n",
    "            with open(file_path, 'rb') as input_file:\n",
    "                input_image = input_file.read()\n",
    "\n",
    "            # Remove background\n",
    "            output_image = remove(input_image)\n",
    "\n",
    "            # Ensure the output is in PNG format (supports transparency)\n",
    "            output_image = Image.open(io.BytesIO(output_image))\n",
    "            output_image = output_image.convert(\"RGBA\")  # Ensure image has alpha channel for transparency\n",
    "\n",
    "            # Save the resulting image to the output folder\n",
    "            output_file_path = os.path.join(output_folder, filename)\n",
    "\n",
    "            # Ensure output is saved with PNG format for transparency\n",
    "            if not output_file_path.lower().endswith('.png'):\n",
    "                output_file_path = os.path.splitext(output_file_path)[0] + '.png'\n",
    "\n",
    "            output_image.save(output_file_path, format='PNG')\n",
    "\n",
    "            print(f\"Processed and saved: {filename}\")\n",
    "        except Exception as e:\n",
    "            print(f\"Error processing {filename}: {e}\")\n",
    "\n",
    "print(\"Background removal process complete.\")\n"
   ]
  },
  {
   "cell_type": "code",
   "execution_count": 1,
   "id": "5b53215c",
   "metadata": {},
   "outputs": [
    {
     "name": "stdout",
     "output_type": "stream",
     "text": [
      "Collecting rembg\n",
      "  Using cached rembg-2.0.61-py3-none-any.whl.metadata (18 kB)\n",
      "Requirement already satisfied: pillow in c:\\users\\sohai\\.conda\\envs\\notebook\\lib\\site-packages (10.4.0)\n",
      "Requirement already satisfied: jsonschema in c:\\users\\sohai\\.conda\\envs\\notebook\\lib\\site-packages (from rembg) (4.19.2)\n",
      "Requirement already satisfied: numpy in c:\\users\\sohai\\.conda\\envs\\notebook\\lib\\site-packages (from rembg) (2.0.2)\n",
      "Collecting opencv-python-headless (from rembg)\n",
      "  Using cached opencv_python_headless-4.10.0.84-cp37-abi3-win_amd64.whl.metadata (20 kB)\n",
      "Collecting pooch (from rembg)\n",
      "  Using cached pooch-1.8.2-py3-none-any.whl.metadata (10 kB)\n",
      "Collecting pymatting (from rembg)\n",
      "  Using cached PyMatting-1.1.13-py3-none-any.whl.metadata (7.5 kB)\n",
      "Collecting scikit-image (from rembg)\n",
      "  Using cached scikit_image-0.25.0-cp311-cp311-win_amd64.whl.metadata (14 kB)\n",
      "Collecting scipy (from rembg)\n",
      "  Using cached scipy-1.14.1-cp311-cp311-win_amd64.whl.metadata (60 kB)\n",
      "Requirement already satisfied: tqdm in c:\\users\\sohai\\.conda\\envs\\notebook\\lib\\site-packages (from rembg) (4.66.6)\n",
      "Requirement already satisfied: attrs>=22.2.0 in c:\\users\\sohai\\.conda\\envs\\notebook\\lib\\site-packages (from jsonschema->rembg) (24.2.0)\n",
      "Requirement already satisfied: jsonschema-specifications>=2023.03.6 in c:\\users\\sohai\\.conda\\envs\\notebook\\lib\\site-packages (from jsonschema->rembg) (2023.7.1)\n",
      "Requirement already satisfied: referencing>=0.28.4 in c:\\users\\sohai\\.conda\\envs\\notebook\\lib\\site-packages (from jsonschema->rembg) (0.30.2)\n",
      "Requirement already satisfied: rpds-py>=0.7.1 in c:\\users\\sohai\\.conda\\envs\\notebook\\lib\\site-packages (from jsonschema->rembg) (0.10.6)\n",
      "Requirement already satisfied: platformdirs>=2.5.0 in c:\\users\\sohai\\.conda\\envs\\notebook\\lib\\site-packages (from pooch->rembg) (3.10.0)\n",
      "Requirement already satisfied: packaging>=20.0 in c:\\users\\sohai\\.conda\\envs\\notebook\\lib\\site-packages (from pooch->rembg) (24.1)\n",
      "Requirement already satisfied: requests>=2.19.0 in c:\\users\\sohai\\.conda\\envs\\notebook\\lib\\site-packages (from pooch->rembg) (2.32.3)\n",
      "Collecting numba!=0.49.0 (from pymatting->rembg)\n",
      "  Using cached numba-0.60.0-cp311-cp311-win_amd64.whl.metadata (2.8 kB)\n",
      "Collecting networkx>=3.0 (from scikit-image->rembg)\n",
      "  Using cached networkx-3.4.2-py3-none-any.whl.metadata (6.3 kB)\n",
      "Collecting imageio!=2.35.0,>=2.33 (from scikit-image->rembg)\n",
      "  Using cached imageio-2.36.1-py3-none-any.whl.metadata (5.2 kB)\n",
      "Collecting tifffile>=2022.8.12 (from scikit-image->rembg)\n",
      "  Using cached tifffile-2024.12.12-py3-none-any.whl.metadata (31 kB)\n",
      "Collecting lazy-loader>=0.4 (from scikit-image->rembg)\n",
      "  Using cached lazy_loader-0.4-py3-none-any.whl.metadata (7.6 kB)\n",
      "Requirement already satisfied: colorama in c:\\users\\sohai\\.conda\\envs\\notebook\\lib\\site-packages (from tqdm->rembg) (0.4.6)\n",
      "Collecting llvmlite<0.44,>=0.43.0dev0 (from numba!=0.49.0->pymatting->rembg)\n",
      "  Using cached llvmlite-0.43.0-cp311-cp311-win_amd64.whl.metadata (4.9 kB)\n",
      "Requirement already satisfied: charset-normalizer<4,>=2 in c:\\users\\sohai\\.conda\\envs\\notebook\\lib\\site-packages (from requests>=2.19.0->pooch->rembg) (3.3.2)\n",
      "Requirement already satisfied: idna<4,>=2.5 in c:\\users\\sohai\\.conda\\envs\\notebook\\lib\\site-packages (from requests>=2.19.0->pooch->rembg) (3.7)\n",
      "Requirement already satisfied: urllib3<3,>=1.21.1 in c:\\users\\sohai\\.conda\\envs\\notebook\\lib\\site-packages (from requests>=2.19.0->pooch->rembg) (2.2.2)\n",
      "Requirement already satisfied: certifi>=2017.4.17 in c:\\users\\sohai\\.conda\\envs\\notebook\\lib\\site-packages (from requests>=2.19.0->pooch->rembg) (2024.7.4)\n",
      "Using cached rembg-2.0.61-py3-none-any.whl (40 kB)\n",
      "Using cached opencv_python_headless-4.10.0.84-cp37-abi3-win_amd64.whl (38.8 MB)\n",
      "Using cached pooch-1.8.2-py3-none-any.whl (64 kB)\n",
      "Using cached PyMatting-1.1.13-py3-none-any.whl (54 kB)\n",
      "Using cached scipy-1.14.1-cp311-cp311-win_amd64.whl (44.8 MB)\n",
      "Using cached scikit_image-0.25.0-cp311-cp311-win_amd64.whl (12.8 MB)\n",
      "Using cached imageio-2.36.1-py3-none-any.whl (315 kB)\n",
      "Using cached lazy_loader-0.4-py3-none-any.whl (12 kB)\n",
      "Using cached networkx-3.4.2-py3-none-any.whl (1.7 MB)\n",
      "Using cached numba-0.60.0-cp311-cp311-win_amd64.whl (2.7 MB)\n",
      "Using cached tifffile-2024.12.12-py3-none-any.whl (227 kB)\n",
      "Using cached llvmlite-0.43.0-cp311-cp311-win_amd64.whl (28.1 MB)\n",
      "Installing collected packages: tifffile, scipy, opencv-python-headless, networkx, llvmlite, lazy-loader, imageio, scikit-image, pooch, numba, pymatting, rembg\n",
      "Successfully installed imageio-2.36.1 lazy-loader-0.4 llvmlite-0.43.0 networkx-3.4.2 numba-0.60.0 opencv-python-headless-4.10.0.84 pooch-1.8.2 pymatting-1.1.13 rembg-2.0.61 scikit-image-0.25.0 scipy-1.14.1 tifffile-2024.12.12\n",
      "Note: you may need to restart the kernel to use updated packages.\n"
     ]
    },
    {
     "name": "stderr",
     "output_type": "stream",
     "text": [
      "WARNING: Ignoring invalid distribution ~umpy (C:\\Users\\Sohai\\.conda\\envs\\notebook\\Lib\\site-packages)\n",
      "WARNING: Ignoring invalid distribution ~umpy (C:\\Users\\Sohai\\.conda\\envs\\notebook\\Lib\\site-packages)\n",
      "WARNING: Ignoring invalid distribution ~umpy (C:\\Users\\Sohai\\.conda\\envs\\notebook\\Lib\\site-packages)\n"
     ]
    }
   ],
   "source": [
    "pip install rembg pillow"
   ]
  },
  {
   "cell_type": "code",
   "execution_count": 3,
   "id": "f3bb0e28",
   "metadata": {},
   "outputs": [
    {
     "name": "stdout",
     "output_type": "stream",
     "text": [
      "Collecting onnxruntime\n",
      "  Downloading onnxruntime-1.20.1-cp311-cp311-win_amd64.whl.metadata (4.7 kB)\n",
      "Collecting coloredlogs (from onnxruntime)\n",
      "  Downloading coloredlogs-15.0.1-py2.py3-none-any.whl.metadata (12 kB)\n",
      "Collecting flatbuffers (from onnxruntime)\n",
      "  Downloading flatbuffers-24.12.23-py2.py3-none-any.whl.metadata (876 bytes)\n",
      "Requirement already satisfied: numpy>=1.21.6 in c:\\users\\sohai\\.conda\\envs\\notebook\\lib\\site-packages (from onnxruntime) (2.0.2)\n",
      "Requirement already satisfied: packaging in c:\\users\\sohai\\.conda\\envs\\notebook\\lib\\site-packages (from onnxruntime) (24.1)\n",
      "Collecting protobuf (from onnxruntime)\n",
      "  Downloading protobuf-5.29.2-cp310-abi3-win_amd64.whl.metadata (592 bytes)\n",
      "Collecting sympy (from onnxruntime)\n",
      "  Downloading sympy-1.13.3-py3-none-any.whl.metadata (12 kB)\n",
      "Collecting humanfriendly>=9.1 (from coloredlogs->onnxruntime)\n",
      "  Downloading humanfriendly-10.0-py2.py3-none-any.whl.metadata (9.2 kB)\n",
      "Collecting mpmath<1.4,>=1.1.0 (from sympy->onnxruntime)\n",
      "  Downloading mpmath-1.3.0-py3-none-any.whl.metadata (8.6 kB)\n",
      "Collecting pyreadline3 (from humanfriendly>=9.1->coloredlogs->onnxruntime)\n",
      "  Downloading pyreadline3-3.5.4-py3-none-any.whl.metadata (4.7 kB)\n",
      "Downloading onnxruntime-1.20.1-cp311-cp311-win_amd64.whl (11.3 MB)\n",
      "   ---------------------------------------- 0.0/11.3 MB ? eta -:--:--\n",
      "   --- ------------------------------------ 1.0/11.3 MB 8.4 MB/s eta 0:00:02\n",
      "   ----------- ---------------------------- 3.1/11.3 MB 7.7 MB/s eta 0:00:02\n",
      "   ----------------- ---------------------- 5.0/11.3 MB 7.7 MB/s eta 0:00:01\n",
      "   ------------------------ --------------- 6.8/11.3 MB 7.9 MB/s eta 0:00:01\n",
      "   ---------------------------- ----------- 8.1/11.3 MB 7.6 MB/s eta 0:00:01\n",
      "   ----------------------------------- ---- 10.0/11.3 MB 7.7 MB/s eta 0:00:01\n",
      "   -------------------------------------- - 11.0/11.3 MB 7.6 MB/s eta 0:00:01\n",
      "   ---------------------------------------- 11.3/11.3 MB 6.9 MB/s eta 0:00:00\n",
      "Downloading coloredlogs-15.0.1-py2.py3-none-any.whl (46 kB)\n",
      "Downloading flatbuffers-24.12.23-py2.py3-none-any.whl (30 kB)\n",
      "Downloading protobuf-5.29.2-cp310-abi3-win_amd64.whl (434 kB)\n",
      "Downloading sympy-1.13.3-py3-none-any.whl (6.2 MB)\n",
      "   ---------------------------------------- 0.0/6.2 MB ? eta -:--:--\n",
      "   -------- ------------------------------- 1.3/6.2 MB 7.4 MB/s eta 0:00:01\n",
      "   ------------------ --------------------- 2.9/6.2 MB 7.3 MB/s eta 0:00:01\n",
      "   ---------------------------- ----------- 4.5/6.2 MB 7.7 MB/s eta 0:00:01\n",
      "   -------------------------------------- - 6.0/6.2 MB 7.5 MB/s eta 0:00:01\n",
      "   ---------------------------------------- 6.2/6.2 MB 6.8 MB/s eta 0:00:00\n",
      "Downloading humanfriendly-10.0-py2.py3-none-any.whl (86 kB)\n",
      "Downloading mpmath-1.3.0-py3-none-any.whl (536 kB)\n",
      "   ---------------------------------------- 0.0/536.2 kB ? eta -:--:--\n",
      "   ---------------------------------------- 536.2/536.2 kB 4.4 MB/s eta 0:00:00\n",
      "Downloading pyreadline3-3.5.4-py3-none-any.whl (83 kB)\n",
      "Installing collected packages: mpmath, flatbuffers, sympy, pyreadline3, protobuf, humanfriendly, coloredlogs, onnxruntime\n",
      "Successfully installed coloredlogs-15.0.1 flatbuffers-24.12.23 humanfriendly-10.0 mpmath-1.3.0 onnxruntime-1.20.1 protobuf-5.29.2 pyreadline3-3.5.4 sympy-1.13.3\n",
      "Note: you may need to restart the kernel to use updated packages.\n"
     ]
    },
    {
     "name": "stderr",
     "output_type": "stream",
     "text": [
      "WARNING: Ignoring invalid distribution ~umpy (C:\\Users\\Sohai\\.conda\\envs\\notebook\\Lib\\site-packages)\n",
      "WARNING: Ignoring invalid distribution ~umpy (C:\\Users\\Sohai\\.conda\\envs\\notebook\\Lib\\site-packages)\n",
      "WARNING: Ignoring invalid distribution ~umpy (C:\\Users\\Sohai\\.conda\\envs\\notebook\\Lib\\site-packages)\n"
     ]
    }
   ],
   "source": [
    "pip install onnxruntime"
   ]
  },
  {
   "cell_type": "code",
   "execution_count": null,
   "id": "fa63fb38",
   "metadata": {},
   "outputs": [],
   "source": []
  }
 ],
 "metadata": {
  "kernelspec": {
   "display_name": "Python 3 (ipykernel)",
   "language": "python",
   "name": "python3"
  },
  "language_info": {
   "codemirror_mode": {
    "name": "ipython",
    "version": 3
   },
   "file_extension": ".py",
   "mimetype": "text/x-python",
   "name": "python",
   "nbconvert_exporter": "python",
   "pygments_lexer": "ipython3",
   "version": "3.11.9"
  }
 },
 "nbformat": 4,
 "nbformat_minor": 5
}
